{
 "cells": [
  {
   "cell_type": "code",
   "execution_count": 1,
   "metadata": {},
   "outputs": [],
   "source": [
    "%load_ext autoreload\n",
    "%autoreload 2"
   ]
  },
  {
   "cell_type": "code",
   "execution_count": 2,
   "metadata": {},
   "outputs": [
    {
     "name": "stdout",
     "output_type": "stream",
     "text": [
      "time: 0 ns\n"
     ]
    }
   ],
   "source": [
    "%load_ext autotime"
   ]
  },
  {
   "cell_type": "markdown",
   "metadata": {},
   "source": [
    "# BlenderCNN"
   ]
  },
  {
   "cell_type": "code",
   "execution_count": 3,
   "metadata": {},
   "outputs": [
    {
     "name": "stdout",
     "output_type": "stream",
     "text": [
      "time: 2.39 s\n"
     ]
    }
   ],
   "source": [
    "from keras.models import Sequential\n",
    "from keras.layers import Input, Conv2DTranspose, BatchNormalization, LeakyReLU, Activation, Dense, Reshape\n",
    "from keras.activations import sigmoid"
   ]
  },
  {
   "cell_type": "code",
   "execution_count": 2,
   "metadata": {},
   "outputs": [],
   "source": [
    "import os\n",
    "import json\n",
    "with open(os.path.expanduser(f'~/data/flying_dots/metadata.json'), 'r') as f:\n",
    "    all_features = json.load(f)"
   ]
  },
  {
   "cell_type": "code",
   "execution_count": 3,
   "metadata": {},
   "outputs": [
    {
     "data": {
      "text/plain": [
       "array([ 0.8178674 ,  0.6382826 ,  0.18252081,  0.19351982, -0.82517093])"
      ]
     },
     "execution_count": 3,
     "metadata": {},
     "output_type": "execute_result"
    }
   ],
   "source": [
    "import numpy as np\n",
    "x = np.asarray(all_features['sample_1'], dtype=float)\n",
    "x"
   ]
  },
  {
   "cell_type": "code",
   "execution_count": 4,
   "metadata": {},
   "outputs": [
    {
     "name": "stdout",
     "output_type": "stream",
     "text": [
      "Model: \"name\"\n",
      "_________________________________________________________________\n",
      "Layer (type)                 Output Shape              Param #   \n",
      "=================================================================\n",
      "reshape (Reshape)            (None, 1, 1, 5)           0         \n",
      "_________________________________________________________________\n",
      "conv2d_t_layer1 (Conv2DTrans (None, 4, 4, 512)         40960     \n",
      "_________________________________________________________________\n",
      "batch_norm_layer1 (BatchNorm (None, 4, 4, 512)         2048      \n",
      "_________________________________________________________________\n",
      "leaky_relu_layer1 (LeakyReLU (None, 4, 4, 512)         0         \n",
      "_________________________________________________________________\n",
      "conv2d_t_layer2 (Conv2DTrans (None, 8, 8, 256)         2097152   \n",
      "_________________________________________________________________\n",
      "batch_norm_layer2 (BatchNorm (None, 8, 8, 256)         1024      \n",
      "_________________________________________________________________\n",
      "leaky_relu_layer2 (LeakyReLU (None, 8, 8, 256)         0         \n",
      "_________________________________________________________________\n",
      "conv2d_t_layer3 (Conv2DTrans (None, 16, 16, 128)       524288    \n",
      "_________________________________________________________________\n",
      "batch_norm_layer3 (BatchNorm (None, 16, 16, 128)       512       \n",
      "_________________________________________________________________\n",
      "leaky_relu_layer3 (LeakyReLU (None, 16, 16, 128)       0         \n",
      "_________________________________________________________________\n",
      "conv2d_t_layer4 (Conv2DTrans (None, 32, 32, 64)        131072    \n",
      "_________________________________________________________________\n",
      "batch_norm_layer4 (BatchNorm (None, 32, 32, 64)        256       \n",
      "_________________________________________________________________\n",
      "leaky_relu_layer4 (LeakyReLU (None, 32, 32, 64)        0         \n",
      "_________________________________________________________________\n",
      "conv2d_t_layer5 (Conv2DTrans (None, 64, 64, 32)        32768     \n",
      "_________________________________________________________________\n",
      "batch_norm_layer5 (BatchNorm (None, 64, 64, 32)        128       \n",
      "_________________________________________________________________\n",
      "leaky_relu_layer5 (LeakyReLU (None, 64, 64, 32)        0         \n",
      "_________________________________________________________________\n",
      "conv2d_t_layer6 (Conv2DTrans (None, 128, 128, 16)      8192      \n",
      "_________________________________________________________________\n",
      "batch_norm_layer6 (BatchNorm (None, 128, 128, 16)      64        \n",
      "_________________________________________________________________\n",
      "leaky_relu_layer6 (LeakyReLU (None, 128, 128, 16)      0         \n",
      "_________________________________________________________________\n",
      "conv2d_t_last (Conv2DTranspo (None, 256, 256, 3)       195       \n",
      "_________________________________________________________________\n",
      "sigmoid_last (Activation)    (None, 256, 256, 3)       0         \n",
      "=================================================================\n",
      "Total params: 2,838,659\n",
      "Trainable params: 2,836,643\n",
      "Non-trainable params: 2,016\n",
      "_________________________________________________________________\n"
     ]
    }
   ],
   "source": [
    "model = Sequential(name='name')\n",
    "    \n",
    "# Input\n",
    "model.add(Reshape((1, 1, 5), input_dim=5, name='reshape'))\n",
    "\n",
    "# Layer 1\n",
    "model.add(Conv2DTranspose(\n",
    "        filters=512,\n",
    "        kernel_size=(4, 4),\n",
    "        strides=(1, 1),\n",
    "        use_bias=False,\n",
    "        name=f'conv2d_t_layer1',\n",
    "))\n",
    "model.add(BatchNormalization(\n",
    "        momentum=0.1,\n",
    "        epsilon=1e-5,\n",
    "        name=f'batch_norm_layer1',\n",
    "))\n",
    "model.add(LeakyReLU(\n",
    "        name=f'leaky_relu_layer1',\n",
    "))\n",
    "\n",
    "# Layer 2\n",
    "model.add(Conv2DTranspose(\n",
    "        filters=256,\n",
    "        kernel_size=(4, 4),\n",
    "        strides=(2, 2),\n",
    "        padding='same',\n",
    "        use_bias=False,\n",
    "        name=f'conv2d_t_layer2',\n",
    "))\n",
    "model.add(BatchNormalization(\n",
    "        momentum=0.1,\n",
    "        epsilon=1e-5,\n",
    "        name=f'batch_norm_layer2',\n",
    "))\n",
    "model.add(LeakyReLU(\n",
    "        name=f'leaky_relu_layer2',\n",
    "))\n",
    "\n",
    "# Layer 3\n",
    "model.add(Conv2DTranspose(\n",
    "        filters=128,\n",
    "        kernel_size=(4, 4),\n",
    "        strides=(2, 2),\n",
    "        padding='same',\n",
    "        use_bias=False,\n",
    "        name=f'conv2d_t_layer3',\n",
    "))\n",
    "model.add(BatchNormalization(\n",
    "        momentum=0.1,\n",
    "        epsilon=1e-5,\n",
    "        name=f'batch_norm_layer3',\n",
    "))\n",
    "model.add(LeakyReLU(\n",
    "        name=f'leaky_relu_layer3',\n",
    "))\n",
    "\n",
    "# Layer 4\n",
    "model.add(Conv2DTranspose(\n",
    "        filters=64,\n",
    "        kernel_size=(4, 4),\n",
    "        strides=(2, 2),\n",
    "        padding='same',\n",
    "        use_bias=False,\n",
    "        name=f'conv2d_t_layer4',\n",
    "))\n",
    "model.add(BatchNormalization(\n",
    "        momentum=0.1,\n",
    "        epsilon=1e-5,\n",
    "        name=f'batch_norm_layer4',\n",
    "))\n",
    "model.add(LeakyReLU(\n",
    "        name=f'leaky_relu_layer4',\n",
    "))\n",
    "\n",
    "# Layer 5\n",
    "model.add(Conv2DTranspose(\n",
    "        filters=32,\n",
    "        kernel_size=(4, 4),\n",
    "        strides=(2, 2),\n",
    "        padding='same',\n",
    "        use_bias=False,\n",
    "        name=f'conv2d_t_layer5',\n",
    "))\n",
    "model.add(BatchNormalization(\n",
    "        momentum=0.1,\n",
    "        epsilon=1e-5,\n",
    "        name=f'batch_norm_layer5',\n",
    "))\n",
    "model.add(LeakyReLU(\n",
    "        name=f'leaky_relu_layer5',\n",
    "))\n",
    "\n",
    "# Layer 6\n",
    "model.add(Conv2DTranspose(\n",
    "        filters=16,\n",
    "        kernel_size=(4, 4),\n",
    "        strides=(2, 2),\n",
    "        padding='same',\n",
    "        use_bias=False,\n",
    "        name=f'conv2d_t_layer6',\n",
    "))\n",
    "model.add(BatchNormalization(\n",
    "        momentum=0.1,\n",
    "        epsilon=1e-5,\n",
    "        name=f'batch_norm_layer6',\n",
    "))\n",
    "model.add(LeakyReLU(\n",
    "        name=f'leaky_relu_layer6',\n",
    "))\n",
    "    \n",
    "# Final layer\n",
    "model.add(Conv2DTranspose(\n",
    "        filters=3,\n",
    "        kernel_size=(2, 2),\n",
    "        strides=(2, 2),\n",
    "        output_padding=None,\n",
    "        padding='same',\n",
    "        use_bias=True,  # Enable bias since most values close to 0\n",
    "        name='conv2d_t_last',\n",
    "))\n",
    "model.add(Activation(\n",
    "        sigmoid,  # End with sigmoid layer to ensure values between 0..1\n",
    "        name='sigmoid_last',\n",
    "))\n",
    "    \n",
    "# Compile the model\n",
    "model.compile(\n",
    "        optimizer='adam',  # Adam optimiser\n",
    "        loss='mse',  # Regression problem\n",
    ")\n",
    "\n",
    "model.summary()"
   ]
  },
  {
   "cell_type": "code",
   "execution_count": 7,
   "metadata": {},
   "outputs": [
    {
     "data": {
      "text/plain": [
       "array([[ 0.8178674 ,  0.6382826 ,  0.18252081,  0.19351982, -0.82517093],\n",
       "       [ 0.88353854,  0.59632945,  0.18137495, -0.49492443,  0.33612549]])"
      ]
     },
     "execution_count": 7,
     "metadata": {},
     "output_type": "execute_result"
    },
    {
     "name": "stdout",
     "output_type": "stream",
     "text": [
      "time: 0 ns\n"
     ]
    }
   ],
   "source": [
    "x = np.asarray([all_features['sample_1'],all_features['sample_2']], dtype=float)\n",
    "x"
   ]
  },
  {
   "cell_type": "code",
   "execution_count": 8,
   "metadata": {},
   "outputs": [
    {
     "data": {
      "text/plain": [
       "<tf.Tensor: shape=(2, 256, 256, 3), dtype=float32, numpy=\n",
       "array([[[[0.5000003 , 0.50000006, 0.49999845],\n",
       "         [0.49999946, 0.50000083, 0.49999917],\n",
       "         [0.49999845, 0.5000006 , 0.49999702],\n",
       "         ...,\n",
       "         [0.49999356, 0.5000021 , 0.4999959 ],\n",
       "         [0.4999984 , 0.5000001 , 0.4999981 ],\n",
       "         [0.49999928, 0.50000054, 0.50000066]],\n",
       "\n",
       "        [[0.50000054, 0.50000095, 0.5000008 ],\n",
       "         [0.49999976, 0.50000125, 0.4999994 ],\n",
       "         [0.49999833, 0.49999964, 0.49999976],\n",
       "         ...,\n",
       "         [0.49999952, 0.5000038 , 0.50000525],\n",
       "         [0.4999997 , 0.50000083, 0.50000054],\n",
       "         [0.5000002 , 0.50000125, 0.5000002 ]],\n",
       "\n",
       "        [[0.49999928, 0.50000083, 0.5000026 ],\n",
       "         [0.4999984 , 0.49999988, 0.50000083],\n",
       "         [0.49999398, 0.500003  , 0.4999913 ],\n",
       "         ...,\n",
       "         [0.49999344, 0.50001043, 0.49999046],\n",
       "         [0.49999684, 0.49999952, 0.5000025 ],\n",
       "         [0.4999985 , 0.49999952, 0.49999893]],\n",
       "\n",
       "        ...,\n",
       "\n",
       "        [[0.49999803, 0.5000031 , 0.50000095],\n",
       "         [0.50000536, 0.5000028 , 0.5000024 ],\n",
       "         [0.5000013 , 0.49999762, 0.49999726],\n",
       "         ...,\n",
       "         [0.50000733, 0.5000071 , 0.500006  ],\n",
       "         [0.5000028 , 0.49999613, 0.49999684],\n",
       "         [0.50000316, 0.4999997 , 0.5000025 ]],\n",
       "\n",
       "        [[0.49999797, 0.49999976, 0.49999654],\n",
       "         [0.49999833, 0.50000036, 0.4999969 ],\n",
       "         [0.49999988, 0.5000018 , 0.4999988 ],\n",
       "         ...,\n",
       "         [0.50000006, 0.49999774, 0.4999988 ],\n",
       "         [0.49999857, 0.5000008 , 0.49999928],\n",
       "         [0.50000143, 0.5000001 , 0.5000016 ]],\n",
       "\n",
       "        [[0.50000024, 0.49999964, 0.50000066],\n",
       "         [0.5000013 , 0.49999964, 0.50000155],\n",
       "         [0.4999979 , 0.49999934, 0.49999952],\n",
       "         ...,\n",
       "         [0.50000346, 0.50000393, 0.5000033 ],\n",
       "         [0.50000054, 0.5000002 , 0.49999976],\n",
       "         [0.49999958, 0.49999923, 0.5       ]]],\n",
       "\n",
       "\n",
       "       [[[0.49999857, 0.5000002 , 0.49999857],\n",
       "         [0.4999994 , 0.49999982, 0.49999982],\n",
       "         [0.49999857, 0.50000095, 0.49999815],\n",
       "         ...,\n",
       "         [0.49999583, 0.5000027 , 0.49999893],\n",
       "         [0.4999985 , 0.50000036, 0.4999975 ],\n",
       "         [0.4999994 , 0.49999988, 0.5000001 ]],\n",
       "\n",
       "        [[0.49999964, 0.50000113, 0.5000005 ],\n",
       "         [0.50000113, 0.5000016 , 0.50000036],\n",
       "         [0.49999952, 0.5000013 , 0.5000005 ],\n",
       "         ...,\n",
       "         [0.49999797, 0.5000043 , 0.5000046 ],\n",
       "         [0.5000006 , 0.5000004 , 0.5000003 ],\n",
       "         [0.5000008 , 0.5000016 , 0.50000036]],\n",
       "\n",
       "        [[0.4999987 , 0.500001  , 0.5000015 ],\n",
       "         [0.49999928, 0.5000014 , 0.49999988],\n",
       "         [0.49998975, 0.50000197, 0.49998617],\n",
       "         ...,\n",
       "         [0.4999913 , 0.5000078 , 0.4999888 ],\n",
       "         [0.49999422, 0.5000038 , 0.500002  ],\n",
       "         [0.49999857, 0.49999833, 0.5000015 ]],\n",
       "\n",
       "        ...,\n",
       "\n",
       "        [[0.49999982, 0.5000019 , 0.5000019 ],\n",
       "         [0.5000067 , 0.5000026 , 0.5000047 ],\n",
       "         [0.49999434, 0.5000009 , 0.49999285],\n",
       "         ...,\n",
       "         [0.5000042 , 0.49998736, 0.5000093 ],\n",
       "         [0.5000032 , 0.4999962 , 0.49999774],\n",
       "         [0.5000033 , 0.5       , 0.5000012 ]],\n",
       "\n",
       "        [[0.4999984 , 0.5000007 , 0.4999975 ],\n",
       "         [0.49999952, 0.5000014 , 0.49999803],\n",
       "         [0.49999988, 0.50000083, 0.49999636],\n",
       "         ...,\n",
       "         [0.5000007 , 0.4999978 , 0.49999714],\n",
       "         [0.49999857, 0.5000014 , 0.50000024],\n",
       "         [0.50000143, 0.5000006 , 0.5000013 ]],\n",
       "\n",
       "        [[0.49999958, 0.49999988, 0.5       ],\n",
       "         [0.49999988, 0.49999976, 0.5000004 ],\n",
       "         [0.49999797, 0.5000003 , 0.49999976],\n",
       "         ...,\n",
       "         [0.5000061 , 0.5000065 , 0.5000047 ],\n",
       "         [0.5000012 , 0.4999994 , 0.49999946],\n",
       "         [0.49999988, 0.4999987 , 0.49999917]]]], dtype=float32)>"
      ]
     },
     "execution_count": 8,
     "metadata": {},
     "output_type": "execute_result"
    },
    {
     "name": "stdout",
     "output_type": "stream",
     "text": [
      "time: 1.67 s\n"
     ]
    }
   ],
   "source": [
    "model(x)"
   ]
  },
  {
   "cell_type": "code",
   "execution_count": 9,
   "metadata": {},
   "outputs": [
    {
     "name": "stderr",
     "output_type": "stream",
     "text": [
      "Parsing images...: 100%|████████████████████████████████████████████████████████████████████████████████████████████████████████████████████████████| 100/100 [00:00<00:00, 393.21it/s]"
     ]
    },
    {
     "name": "stdout",
     "output_type": "stream",
     "text": [
      "time: 375 ms\n"
     ]
    },
    {
     "name": "stderr",
     "output_type": "stream",
     "text": [
      "\n"
     ]
    }
   ],
   "source": [
    "from generator import Generator\n",
    "generator = Generator([f'sample_{i}' for i in range(1,101)])"
   ]
  },
  {
   "cell_type": "code",
   "execution_count": null,
   "metadata": {},
   "outputs": [],
   "source": []
  },
  {
   "cell_type": "code",
   "execution_count": null,
   "metadata": {},
   "outputs": [],
   "source": []
  },
  {
   "cell_type": "code",
   "execution_count": null,
   "metadata": {},
   "outputs": [],
   "source": []
  },
  {
   "cell_type": "code",
   "execution_count": null,
   "metadata": {},
   "outputs": [],
   "source": []
  },
  {
   "cell_type": "code",
   "execution_count": null,
   "metadata": {},
   "outputs": [],
   "source": []
  },
  {
   "cell_type": "code",
   "execution_count": 4,
   "metadata": {},
   "outputs": [
    {
     "name": "stdout",
     "output_type": "stream",
     "text": [
      "time: 391 ms\n"
     ]
    }
   ],
   "source": [
    "from sklearn.model_selection import train_test_split\n",
    "\n",
    "from generator import Generator, parse_images\n",
    "from model import TransposeCNN"
   ]
  },
  {
   "cell_type": "code",
   "execution_count": 5,
   "metadata": {},
   "outputs": [
    {
     "name": "stdout",
     "output_type": "stream",
     "text": [
      "time: 0 ns\n"
     ]
    }
   ],
   "source": [
    "# Load in datafiles\n",
    "img_names = [f\"sample_{i}\" for i in range(1, 1001)]"
   ]
  },
  {
   "cell_type": "code",
   "execution_count": 6,
   "metadata": {},
   "outputs": [
    {
     "name": "stderr",
     "output_type": "stream",
     "text": [
      "Parsing images...: 100%|██████████████████████████████████████████████████████████████████████████████████████████████████████████████████████████| 1000/1000 [00:03<00:00, 257.20it/s]"
     ]
    },
    {
     "name": "stdout",
     "output_type": "stream",
     "text": [
      "time: 3.92 s\n"
     ]
    },
    {
     "name": "stderr",
     "output_type": "stream",
     "text": [
      "\n"
     ]
    }
   ],
   "source": [
    "x,y = parse_images(img_names)"
   ]
  },
  {
   "cell_type": "code",
   "execution_count": 7,
   "metadata": {},
   "outputs": [
    {
     "data": {
      "text/plain": [
       "(1000, 5)"
      ]
     },
     "execution_count": 7,
     "metadata": {},
     "output_type": "execute_result"
    },
    {
     "name": "stdout",
     "output_type": "stream",
     "text": [
      "time: 0 ns\n"
     ]
    }
   ],
   "source": [
    "x.shape"
   ]
  },
  {
   "cell_type": "code",
   "execution_count": 16,
   "metadata": {},
   "outputs": [
    {
     "name": "stdout",
     "output_type": "stream",
     "text": [
      "time: 1.16 s\n"
     ]
    }
   ],
   "source": [
    "import tensorflow as tf\n",
    "\n",
    "config = tf.compat.v1.ConfigProto()\n",
    "config.gpu_options.per_process_gpu_memory_fraction = 0.7\n",
    "tf.compat.v1.keras.backend.set_session(tf.compat.v1.Session(config=config))"
   ]
  },
  {
   "cell_type": "code",
   "execution_count": 17,
   "metadata": {},
   "outputs": [
    {
     "name": "stdout",
     "output_type": "stream",
     "text": [
      "Model: \"TransposeCNN\"\n",
      "_________________________________________________________________\n",
      "Layer (type)                 Output Shape              Param #   \n",
      "=================================================================\n",
      "reshape (Reshape)            (None, 1, 1, 5)           0         \n",
      "_________________________________________________________________\n",
      "conv2d_t_layer1 (Conv2DTrans (None, 4, 4, 512)         40960     \n",
      "_________________________________________________________________\n",
      "batch_norm_layer1 (BatchNorm (None, 4, 4, 512)         2048      \n",
      "_________________________________________________________________\n",
      "leaky_relu_layer1 (LeakyReLU (None, 4, 4, 512)         0         \n",
      "_________________________________________________________________\n",
      "conv2d_t_layer2 (Conv2DTrans (None, 8, 8, 256)         2097152   \n",
      "_________________________________________________________________\n",
      "batch_norm_layer2 (BatchNorm (None, 8, 8, 256)         1024      \n",
      "_________________________________________________________________\n",
      "leaky_relu_layer2 (LeakyReLU (None, 8, 8, 256)         0         \n",
      "_________________________________________________________________\n",
      "conv2d_t_layer3 (Conv2DTrans (None, 16, 16, 128)       524288    \n",
      "_________________________________________________________________\n",
      "batch_norm_layer3 (BatchNorm (None, 16, 16, 128)       512       \n",
      "_________________________________________________________________\n",
      "leaky_relu_layer3 (LeakyReLU (None, 16, 16, 128)       0         \n",
      "_________________________________________________________________\n",
      "conv2d_t_layer4 (Conv2DTrans (None, 32, 32, 64)        131072    \n",
      "_________________________________________________________________\n",
      "batch_norm_layer4 (BatchNorm (None, 32, 32, 64)        256       \n",
      "_________________________________________________________________\n",
      "leaky_relu_layer4 (LeakyReLU (None, 32, 32, 64)        0         \n",
      "_________________________________________________________________\n",
      "conv2d_t_layer5 (Conv2DTrans (None, 64, 64, 32)        32768     \n",
      "_________________________________________________________________\n",
      "batch_norm_layer5 (BatchNorm (None, 64, 64, 32)        128       \n",
      "_________________________________________________________________\n",
      "leaky_relu_layer5 (LeakyReLU (None, 64, 64, 32)        0         \n",
      "_________________________________________________________________\n",
      "conv2d_t_layer6 (Conv2DTrans (None, 128, 128, 16)      8192      \n",
      "_________________________________________________________________\n",
      "batch_norm_layer6 (BatchNorm (None, 128, 128, 16)      64        \n",
      "_________________________________________________________________\n",
      "leaky_relu_layer6 (LeakyReLU (None, 128, 128, 16)      0         \n",
      "_________________________________________________________________\n",
      "conv2d_t_last (Conv2DTranspo (None, 256, 256, 3)       195       \n",
      "_________________________________________________________________\n",
      "sigmoid_last (Activation)    (None, 256, 256, 3)       0         \n",
      "=================================================================\n",
      "Total params: 2,838,659\n",
      "Trainable params: 2,836,643\n",
      "Non-trainable params: 2,016\n",
      "_________________________________________________________________\n",
      "time: 703 ms\n"
     ]
    },
    {
     "name": "stderr",
     "output_type": "stream",
     "text": [
      "C:\\Users\\Ruben\\Documents\\Projects\\BlenderCNN\\model.py:69: UserWarning: Model loaded successfully!\n",
      "  warn(\"Model loaded successfully!\")\n"
     ]
    }
   ],
   "source": [
    "model = TransposeCNN()"
   ]
  },
  {
   "cell_type": "code",
   "execution_count": 19,
   "metadata": {},
   "outputs": [
    {
     "name": "stdout",
     "output_type": "stream",
     "text": [
      "32/32 [==============================] - 3s 84ms/step - loss: 0.1846\n"
     ]
    },
    {
     "data": {
      "text/plain": [
       "<tensorflow.python.keras.callbacks.History at 0x1ff8ba2f508>"
      ]
     },
     "execution_count": 19,
     "metadata": {},
     "output_type": "execute_result"
    },
    {
     "name": "stdout",
     "output_type": "stream",
     "text": [
      "time: 6.23 s\n"
     ]
    }
   ],
   "source": [
    "# Train the model\n",
    "model.model.fit(\n",
    "    epochs=1,\n",
    "    x=x,y=y,\n",
    ")"
   ]
  },
  {
   "cell_type": "code",
   "execution_count": 12,
   "metadata": {},
   "outputs": [
    {
     "name": "stdout",
     "output_type": "stream",
     "text": [
      "time: 0 ns\n"
     ]
    }
   ],
   "source": [
    "from tqdm import tqdm"
   ]
  },
  {
   "cell_type": "code",
   "execution_count": 14,
   "metadata": {},
   "outputs": [
    {
     "name": "stderr",
     "output_type": "stream",
     "text": [
      "100%|██████████████████████████████████████████████████████████████████████████████████████████████████████████████████████████████████████████████████████████| 10/10 [00:00<?, ?it/s]"
     ]
    },
    {
     "name": "stdout",
     "output_type": "stream",
     "text": [
      "0 0\n",
      "1 1\n",
      "2 2\n",
      "3 3\n",
      "4 4\n",
      "5 5\n",
      "6 6\n",
      "7 7\n",
      "8 8\n",
      "9 9\n",
      "time: 0 ns\n"
     ]
    },
    {
     "name": "stderr",
     "output_type": "stream",
     "text": [
      "\n"
     ]
    }
   ],
   "source": [
    "for i, x in enumerate(tqdm(range(10))):\n",
    "    print(i,x)"
   ]
  },
  {
   "cell_type": "code",
   "execution_count": 17,
   "metadata": {},
   "outputs": [
    {
     "data": {
      "text/plain": [
       "array([[0., 0.],\n",
       "       [0., 0.]])"
      ]
     },
     "execution_count": 17,
     "metadata": {},
     "output_type": "execute_result"
    },
    {
     "name": "stdout",
     "output_type": "stream",
     "text": [
      "time: 0 ns\n"
     ]
    }
   ],
   "source": [
    "import numpy as np\n",
    "x = np.zeros((2,2), dtype=float)\n",
    "x"
   ]
  },
  {
   "cell_type": "code",
   "execution_count": 18,
   "metadata": {},
   "outputs": [
    {
     "name": "stdout",
     "output_type": "stream",
     "text": [
      "time: 16 ms\n"
     ]
    }
   ],
   "source": [
    "x[0,:] = [1,2]"
   ]
  },
  {
   "cell_type": "code",
   "execution_count": 19,
   "metadata": {},
   "outputs": [
    {
     "data": {
      "text/plain": [
       "array([[1., 2.],\n",
       "       [0., 0.]])"
      ]
     },
     "execution_count": 19,
     "metadata": {},
     "output_type": "execute_result"
    },
    {
     "name": "stdout",
     "output_type": "stream",
     "text": [
      "time: 0 ns\n"
     ]
    }
   ],
   "source": [
    "x"
   ]
  },
  {
   "cell_type": "code",
   "execution_count": null,
   "metadata": {},
   "outputs": [],
   "source": []
  }
 ],
 "metadata": {
  "hide_input": false,
  "kernelspec": {
   "display_name": "Python 3",
   "language": "python",
   "name": "python3"
  },
  "language_info": {
   "codemirror_mode": {
    "name": "ipython",
    "version": 3
   },
   "file_extension": ".py",
   "mimetype": "text/x-python",
   "name": "python",
   "nbconvert_exporter": "python",
   "pygments_lexer": "ipython3",
   "version": "3.7.7"
  },
  "toc": {
   "base_numbering": 1,
   "nav_menu": {},
   "number_sections": true,
   "sideBar": true,
   "skip_h1_title": false,
   "title_cell": "Table of Contents",
   "title_sidebar": "Contents",
   "toc_cell": false,
   "toc_position": {},
   "toc_section_display": true,
   "toc_window_display": false
  }
 },
 "nbformat": 4,
 "nbformat_minor": 2
}
